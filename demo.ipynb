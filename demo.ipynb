{
 "cells": [
  {
   "cell_type": "code",
   "execution_count": 2,
   "id": "e8bf9458",
   "metadata": {},
   "outputs": [
    {
     "data": {
      "text/html": [
       "<iframe src=\"..\\..\\__pikz__\\pikzfig.pdf\" width=300 height=300></iframe>"
      ],
      "text/plain": [
       "<pikz.figure.Figure 'pikzfig' with 1 elements>"
      ]
     },
     "execution_count": 2,
     "metadata": {},
     "output_type": "execute_result"
    }
   ],
   "source": [
    "from src.pikz import *\n",
    "\n",
    "c = Circle((0, 0), 1, \n",
    "           fill=mix_color(blue=20), \n",
    "           color=mix_color(blue=50), \n",
    "           thickness=THICK)\n",
    "\n",
    "f = Figure()\n",
    "f.add(c)\n",
    "f"
   ]
  }
 ],
 "metadata": {
  "kernelspec": {
   "display_name": "Python 3 (ipykernel)",
   "language": "python",
   "name": "python3"
  },
  "language_info": {
   "codemirror_mode": {
    "name": "ipython",
    "version": 3
   },
   "file_extension": ".py",
   "mimetype": "text/x-python",
   "name": "python",
   "nbconvert_exporter": "python",
   "pygments_lexer": "ipython3",
   "version": "3.9.7"
  }
 },
 "nbformat": 4,
 "nbformat_minor": 5
}
