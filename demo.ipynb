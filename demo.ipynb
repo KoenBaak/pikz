{
 "cells": [
  {
   "cell_type": "code",
   "execution_count": 1,
   "id": "e8bf9458",
   "metadata": {},
   "outputs": [
    {
     "data": {
      "text/plain": [
       "<Coordinate (0.000, 1.000)>"
      ]
     },
     "execution_count": 1,
     "metadata": {},
     "output_type": "execute_result"
    }
   ],
   "source": [
    "import src.pikz as pikz\n",
    "\n",
    "pikz.Polar(90, 1)"
   ]
  }
 ],
 "metadata": {
  "kernelspec": {
   "display_name": "Python 3 (ipykernel)",
   "language": "python",
   "name": "python3"
  },
  "language_info": {
   "codemirror_mode": {
    "name": "ipython",
    "version": 3
   },
   "file_extension": ".py",
   "mimetype": "text/x-python",
   "name": "python",
   "nbconvert_exporter": "python",
   "pygments_lexer": "ipython3",
   "version": "3.9.7"
  }
 },
 "nbformat": 4,
 "nbformat_minor": 5
}
